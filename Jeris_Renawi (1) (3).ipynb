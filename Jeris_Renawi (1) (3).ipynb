{
  "nbformat": 4,
  "nbformat_minor": 0,
  "metadata": {
    "colab": {
      "provenance": []
    },
    "kernelspec": {
      "name": "python3",
      "display_name": "Python 3"
    },
    "language_info": {
      "name": "python"
    }
  },
  "cells": [
    {
      "cell_type": "code",
      "execution_count": 434,
      "metadata": {
        "id": "a7Mtw_4uB6NQ"
      },
      "outputs": [],
      "source": [
        "#1.Load breast cancer dataset (**structured data**)\n",
        "\n",
        "from sklearn.datasets import load_breast_cancer\n",
        "\n",
        "jeris = load_breast_cancer()\n"
      ]
    },
    {
      "cell_type": "code",
      "source": [
        "#2.Visualize the data\n",
        "\n",
        "from sklearn.manifold import TSNE\n",
        "import numpy as np\n",
        "import pandas as pd\n",
        "import seaborn as sns\n",
        "import matplotlib.pyplot as plt"
      ],
      "metadata": {
        "id": "w7jSa88MCIjy"
      },
      "execution_count": 435,
      "outputs": []
    },
    {
      "cell_type": "code",
      "source": [
        "#3.train_test_split\n",
        "\n",
        "from sklearn.model_selection import train_test_split\n",
        "\n",
        "X = np.random.rand(50, 3)\n",
        "y = np.random.randint(0, 2, 50)\n",
        "\n",
        "X_train, X_test, y_train, y_test = train_test_split(\n",
        "    X,\n",
        "    y,\n",
        "    test_size=0.225,\n",
        "    train_size=0.775,\n",
        "    random_state=None,\n",
        "    shuffle=True,\n",
        "    stratify=None\n",
        ")\n",
        "\n",
        "\n",
        "print(\"X_train shape:\", X_train.shape)\n",
        "print(\"X_test shape:\", X_test.shape)\n",
        "print(\"y_train shape:\", y_train.shape)\n",
        "print(\"y_test shape:\", y_test.shape)\n"
      ],
      "metadata": {
        "colab": {
          "base_uri": "https://localhost:8080/"
        },
        "id": "SFdW1hsPCQ_m",
        "outputId": "9d5e2f6a-b163-40c2-af1a-27d7b364c40b"
      },
      "execution_count": 436,
      "outputs": [
        {
          "output_type": "stream",
          "name": "stdout",
          "text": [
            "X_train shape: (38, 3)\n",
            "X_test shape: (12, 3)\n",
            "y_train shape: (38,)\n",
            "y_test shape: (12,)\n"
          ]
        }
      ]
    },
    {
      "cell_type": "code",
      "source": [
        "# 4.Train **model_decision_tree**\n",
        "\n",
        "from sklearn.tree import DecisionTreeClassifier\n",
        "from sklearn.metrics import accuracy_score, precision_score, recall_score, f1_score, confusion_matrix\n",
        "\n",
        "jeris = load_breast_cancer()\n",
        "X = jeris.data\n",
        "y = jeris.target\n",
        "\n",
        "X_train, X_test, y_train, y_test = train_test_split(\n",
        "    X, y, test_size=0.225, random_state=42, stratify=y)\n",
        "\n",
        "model_decision_tree = DecisionTreeClassifier(\n",
        "   criterion='entropy',\n",
        "    splitter='best',\n",
        "    max_depth=15,\n",
        "    min_samples_split=3,\n",
        "    min_samples_leaf=3,\n",
        "    max_leaf_nodes=4,\n",
        "    class_weight='balanced',\n",
        "    min_impurity_decrease=0.01,\n",
        "    ccp_alpha=0.01,\n",
        "    random_state=42,\n",
        "    monotonic_cst=None\n",
        "\n",
        ")\n",
        "\n",
        "\n",
        "model_decision_tree.fit(X_train, y_train)\n",
        "y_pred = model_decision_tree.predict(X_test)\n",
        "\n",
        "accuracy = accuracy_score(y_test, y_pred)\n",
        "precision = precision_score(y_test, y_pred, average='binary')\n",
        "recall = recall_score(y_test, y_pred, average='binary')\n",
        "f1 = f1_score(y_test, y_pred, average='binary')\n",
        "conf_matrix = confusion_matrix(y_test, y_pred)\n",
        "\n",
        "print(f\"Accuracy: {accuracy:.2f}\")\n",
        "print(f\"Precision: {precision:.2f}\")\n",
        "print(f\"Recall: {recall:.2f}\")\n",
        "print(f\"F1-Score: {f1:.2f}\")\n",
        "print(\"Confusion Matrix:\")\n",
        "print(conf_matrix)\n",
        "\n"
      ],
      "metadata": {
        "colab": {
          "base_uri": "https://localhost:8080/"
        },
        "id": "PtQaY4IOySSC",
        "outputId": "24e6cc86-8192-4ed3-dc2a-8d30b22098cb"
      },
      "execution_count": 437,
      "outputs": [
        {
          "output_type": "stream",
          "name": "stdout",
          "text": [
            "Accuracy: 0.91\n",
            "Precision: 0.95\n",
            "Recall: 0.91\n",
            "F1-Score: 0.93\n",
            "Confusion Matrix:\n",
            "[[44  4]\n",
            " [ 7 74]]\n"
          ]
        }
      ]
    },
    {
      "cell_type": "code",
      "source": [
        "from sklearn.ensemble import RandomForestClassifier\n",
        "from sklearn.metrics import accuracy_score, precision_score, recall_score, f1_score, confusion_matrix\n",
        "from sklearn.datasets import load_breast_cancer\n",
        "from sklearn.model_selection import train_test_split\n",
        "\n",
        "jeris = load_breast_cancer()\n",
        "X = jeris.data\n",
        "y = jeris.target\n",
        "\n",
        "X_train, X_test, y_train, y_test = train_test_split(\n",
        "    X, y, test_size=0.225, random_state=42, stratify=y\n",
        ")\n",
        "\n",
        "model = RandomForestClassifier(\n",
        "    n_estimators=100,\n",
        "    criterion='entropy',\n",
        "    max_depth=30,\n",
        "    min_samples_split=10,\n",
        "    min_samples_leaf=20,\n",
        "    max_features='sqrt',\n",
        "    bootstrap=True,\n",
        "    class_weight='balanced',\n",
        "    random_state=42,\n",
        "    ccp_alpha=0.01,\n",
        "    warm_start=True\n",
        ")\n",
        "\n",
        "model.fit(X_train, y_train)\n",
        "\n",
        "y_pred = model.predict(X_test)\n",
        "\n",
        "accuracy = accuracy_score(y_test, y_pred)\n",
        "precision = precision_score(y_test, y_pred, average='binary')\n",
        "recall = recall_score(y_test, y_pred, average='binary')\n",
        "f1 = f1_score(y_test, y_pred, average='binary')\n",
        "conf_matrix = confusion_matrix(y_test, y_pred)\n",
        "\n",
        "print(\"Random Forest Results:\")\n",
        "print(f\"Accuracy: {accuracy:.2f}\")\n",
        "print(f\"Precision: {precision:.2f}\")\n",
        "print(f\"Recall: {recall:.2f}\")\n",
        "print(f\"F1-Score: {f1:.2f}\")\n",
        "print(\"Confusion Matrix:\")\n",
        "print(conf_matrix)\n"
      ],
      "metadata": {
        "colab": {
          "base_uri": "https://localhost:8080/"
        },
        "id": "HlQKTwWpc-g-",
        "outputId": "5acce6e4-476b-4b35-b460-a5d2b7c6d781"
      },
      "execution_count": 484,
      "outputs": [
        {
          "output_type": "stream",
          "name": "stderr",
          "text": [
            "/usr/local/lib/python3.10/dist-packages/sklearn/ensemble/_forest.py:861: UserWarning: class_weight presets \"balanced\" or \"balanced_subsample\" are not recommended for warm_start if the fitted data differs from the full dataset. In order to use \"balanced\" weights, use compute_class_weight (\"balanced\", classes, y). In place of y you can use a large enough sample of the full training set target to properly estimate the class frequency distributions. Pass the resulting weights as the class_weight parameter.\n",
            "  warn(\n"
          ]
        },
        {
          "output_type": "stream",
          "name": "stdout",
          "text": [
            "Random Forest Results:\n",
            "Accuracy: 0.95\n",
            "Precision: 0.97\n",
            "Recall: 0.94\n",
            "F1-Score: 0.96\n",
            "Confusion Matrix:\n",
            "[[46  2]\n",
            " [ 5 76]]\n"
          ]
        }
      ]
    },
    {
      "cell_type": "code",
      "source": [
        "from sklearn.ensemble import AdaBoostClassifier\n",
        "from sklearn.tree import DecisionTreeClassifier\n",
        "from sklearn.metrics import accuracy_score, precision_score, recall_score, f1_score, confusion_matrix\n",
        "\n",
        "\n",
        "base_estimator = DecisionTreeClassifier(max_depth=4)\n",
        "\n",
        "model_adaboost = AdaBoostClassifier(\n",
        "    estimator=base_estimator,\n",
        "    n_estimators=300,\n",
        "    learning_rate=0.11,\n",
        "    random_state=42\n",
        "\n",
        ")\n",
        "\n",
        "model_adaboost.fit(X_train, y_train)\n",
        "\n",
        "y_pred = model_adaboost.predict(X_test)\n",
        "\n",
        "accuracy = accuracy_score(y_test, y_pred)\n",
        "precision = precision_score(y_test, y_pred)\n",
        "recall = recall_score(y_test, y_pred)\n",
        "f1 = f1_score(y_test, y_pred)\n",
        "conf_matrix = confusion_matrix(y_test, y_pred)\n",
        "\n",
        "print(f\"Accuracy: {accuracy:.3f}\")\n",
        "print(f\"Precision: {precision:.3f}\")\n",
        "print(f\"Recall: {recall:.3f}\")\n",
        "print(f\"F1-Score: {f1:.3f}\")\n",
        "print(\"Confusion Matrix:\")"
      ],
      "metadata": {
        "colab": {
          "base_uri": "https://localhost:8080/"
        },
        "id": "-e0CmVlIT4b4",
        "outputId": "21df7af4-e6be-486e-be49-c862bca3aea3"
      },
      "execution_count": 489,
      "outputs": [
        {
          "output_type": "stream",
          "name": "stderr",
          "text": [
            "/usr/local/lib/python3.10/dist-packages/sklearn/ensemble/_weight_boosting.py:527: FutureWarning: The SAMME.R algorithm (the default) is deprecated and will be removed in 1.6. Use the SAMME algorithm to circumvent this warning.\n",
            "  warnings.warn(\n"
          ]
        },
        {
          "output_type": "stream",
          "name": "stdout",
          "text": [
            "Accuracy: 0.961\n",
            "Precision: 0.963\n",
            "Recall: 0.975\n",
            "F1-Score: 0.969\n",
            "Confusion Matrix:\n"
          ]
        }
      ]
    },
    {
      "cell_type": "code",
      "source": [
        "from sklearn.ensemble import AdaBoostClassifier, RandomForestClassifier\n",
        "from sklearn.tree import DecisionTreeClassifier\n",
        "from sklearn.metrics import accuracy_score, confusion_matrix, precision_score, recall_score, f1_score\n",
        "\n",
        "\n",
        "# מודל 1: AdaBoost\n",
        "ada_model = AdaBoostClassifier(\n",
        "    estimator=DecisionTreeClassifier(max_depth=4),\n",
        "    n_estimators=300,\n",
        "    learning_rate=0.11,\n",
        "    random_state=42\n",
        ")\n",
        "\n",
        "# מודל 2: RandomForest\n",
        "rf_model = RandomForestClassifier(\n",
        "    n_estimators=100,\n",
        "    criterion='entropy',\n",
        "    max_depth=30,\n",
        "    min_samples_split=10,\n",
        "    min_samples_leaf=20,\n",
        "    max_features='sqrt',\n",
        "    bootstrap=True,\n",
        "    class_weight='balanced',\n",
        "    random_state=42,\n",
        "    ccp_alpha=0.01,\n",
        "    warm_start=True\n",
        ")\n",
        "\n",
        "# מודל 3: DecisionTreeClassifier\n",
        "dt_model = DecisionTreeClassifier(\n",
        "    criterion='entropy',\n",
        "    splitter='best',\n",
        "    max_depth=15,\n",
        "    min_samples_split=3,\n",
        "    min_samples_leaf=3,\n",
        "    max_leaf_nodes=4,\n",
        "    class_weight='balanced',\n",
        "    min_impurity_decrease=0.01,\n",
        "    ccp_alpha=0.01,\n",
        "    random_state=42\n",
        ")\n",
        "\n",
        "models = {\n",
        "    \"AdaBoost\": ada_model,\n",
        "    \"RandomForest\": rf_model,\n",
        "    \"DecisionTreeClassifier\": dt_model\n",
        "}\n",
        "\n",
        "results = []\n",
        "best_model = None\n",
        "best_f1_score = 0\n",
        "\n",
        "for model_name, model in models.items():\n",
        "    model.fit(X_train, y_train)\n",
        "\n",
        "    y_pred = model.predict(X_test)\n",
        "\n",
        "    accuracy = accuracy_score(y_test, y_pred)\n",
        "    precision = precision_score(y_test, y_pred, average='binary')\n",
        "    recall = recall_score(y_test, y_pred, average='binary')\n",
        "    f1 = f1_score(y_test, y_pred, average='binary')\n",
        "    conf_matrix = confusion_matrix(y_test, y_pred)\n",
        "\n",
        "    results.append({\n",
        "        \"Model\": model_name,\n",
        "        \"Accuracy\": accuracy,\n",
        "        \"Precision\": precision,\n",
        "        \"Recall\": recall,\n",
        "        \"F1-Score\": f1,\n",
        "        \"Confusion Matrix\": conf_matrix\n",
        "    })\n",
        "\n",
        "    if f1 > best_f1_score:\n",
        "        best_f1_score = f1\n",
        "        best_model = model_name\n",
        "\n",
        "print(\"Performance Comparison Between Models:\")\n",
        "for result in results:\n",
        "    print(f\"\\nModel: {result['Model']}\")\n",
        "    print(f\"Accuracy: {result['Accuracy']:.3f}\")\n",
        "    print(f\"Precision: {result['Precision']:.3f}\")\n",
        "    print(f\"Recall: {result['Recall']:.3f}\")\n",
        "    print(f\"F1-Score: {result['F1-Score']:.3f}\")\n",
        "    print(\"Confusion Matrix:\")\n",
        "    print(result[\"Confusion Matrix\"])\n",
        "\n",
        "print(\"\\nBest Model:\")\n",
        "print(f\"The best model is '{best_model}' with an F1-Score of {best_f1_score:.3f}\")"
      ],
      "metadata": {
        "colab": {
          "base_uri": "https://localhost:8080/"
        },
        "id": "56oR3Dy1RTYq",
        "outputId": "93094a6b-8020-476d-8f6b-321540ba835e"
      },
      "execution_count": 488,
      "outputs": [
        {
          "output_type": "stream",
          "name": "stderr",
          "text": [
            "/usr/local/lib/python3.10/dist-packages/sklearn/ensemble/_weight_boosting.py:527: FutureWarning: The SAMME.R algorithm (the default) is deprecated and will be removed in 1.6. Use the SAMME algorithm to circumvent this warning.\n",
            "  warnings.warn(\n",
            "/usr/local/lib/python3.10/dist-packages/sklearn/ensemble/_forest.py:861: UserWarning: class_weight presets \"balanced\" or \"balanced_subsample\" are not recommended for warm_start if the fitted data differs from the full dataset. In order to use \"balanced\" weights, use compute_class_weight (\"balanced\", classes, y). In place of y you can use a large enough sample of the full training set target to properly estimate the class frequency distributions. Pass the resulting weights as the class_weight parameter.\n",
            "  warn(\n"
          ]
        },
        {
          "output_type": "stream",
          "name": "stdout",
          "text": [
            "Performance Comparison Between Models:\n",
            "\n",
            "Model: AdaBoost\n",
            "Accuracy: 0.961\n",
            "Precision: 0.963\n",
            "Recall: 0.975\n",
            "F1-Score: 0.969\n",
            "Confusion Matrix:\n",
            "[[45  3]\n",
            " [ 2 79]]\n",
            "\n",
            "Model: RandomForest\n",
            "Accuracy: 0.946\n",
            "Precision: 0.974\n",
            "Recall: 0.938\n",
            "F1-Score: 0.956\n",
            "Confusion Matrix:\n",
            "[[46  2]\n",
            " [ 5 76]]\n",
            "\n",
            "Model: DecisionTreeClassifier\n",
            "Accuracy: 0.915\n",
            "Precision: 0.949\n",
            "Recall: 0.914\n",
            "F1-Score: 0.931\n",
            "Confusion Matrix:\n",
            "[[44  4]\n",
            " [ 7 74]]\n",
            "\n",
            "Best Model:\n",
            "The best model is 'AdaBoost' with an F1-Score of 0.969\n"
          ]
        }
      ]
    }
  ]
}